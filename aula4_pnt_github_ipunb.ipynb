{
  "nbformat": 4,
  "nbformat_minor": 0,
  "metadata": {
    "colab": {
      "provenance": []
    },
    "kernelspec": {
      "name": "python3",
      "display_name": "Python 3"
    },
    "language_info": {
      "name": "python"
    }
  },
  "cells": [
    {
      "cell_type": "code",
      "execution_count": 10,
      "metadata": {
        "colab": {
          "base_uri": "https://localhost:8080/"
        },
        "id": "JzNe67B5iTpW",
        "outputId": "10c5c645-99b9-4ce5-b50f-7ad96d9e8667"
      },
      "outputs": [
        {
          "output_type": "stream",
          "name": "stdout",
          "text": [
            "<class 'bool'>\n"
          ]
        }
      ],
      "source": [
        "# ETE CÍCERO DIAS\n",
        "# DOCENTE:  CLOVES\n",
        "# ESTUDANTE: AMANDA\n",
        "# print('Amanda')\n",
        "# Tipos primiitivos de Dados\n",
        "c = False\n",
        "print(type(c))\n"
      ]
    }
  ]
}