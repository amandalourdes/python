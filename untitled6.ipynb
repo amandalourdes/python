{
  "nbformat": 4,
  "nbformat_minor": 0,
  "metadata": {
    "colab": {
      "provenance": [],
      "authorship_tag": "ABX9TyNAdA+/07iCmGDGDVF70Jdn",
      "include_colab_link": true
    },
    "kernelspec": {
      "name": "python3",
      "display_name": "Python 3"
    },
    "language_info": {
      "name": "python"
    }
  },
  "cells": [
    {
      "cell_type": "markdown",
      "metadata": {
        "id": "view-in-github",
        "colab_type": "text"
      },
      "source": [
        "<a href=\"https://colab.research.google.com/github/amandalourdes/python/blob/main/untitled6.ipynb\" target=\"_parent\"><img src=\"https://colab.research.google.com/assets/colab-badge.svg\" alt=\"Open In Colab\"/></a>"
      ]
    },
    {
      "cell_type": "code",
      "execution_count": null,
      "metadata": {
        "id": "7T0W7e-046eh"
      },
      "outputs": [],
      "source": [
        "# ETE Cícero Dias\n",
        "# Prof. Cloves\n",
        "# Python Noções 00\n",
        "# Estudantes: ...\n",
        "\n",
        "class Carro:\n",
        "   def __init__(self):\n",
        "     self._nrodas = 4\n",
        "   def set_nrodas(self, n):\n",
        "      self._nrodas = n\n",
        "gol = Carro()\n",
        "#gol._nrodas\n",
        "\n",
        "gol.set_nrodas(10)\n",
        "#gol._nrodas\n",
        "\n",
        "# imprimi o objeto...\n",
        "c = Carro()\n",
        "#print(c)"
      ]
    }
  ]
}